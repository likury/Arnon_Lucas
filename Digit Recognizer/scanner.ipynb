{
 "cells": [
  {
   "cell_type": "code",
   "execution_count": 73,
   "metadata": {},
   "outputs": [],
   "source": [
    "import cv2 \n",
    "import numpy as np\n",
    "import imutils"
   ]
  },
  {
   "cell_type": "markdown",
   "metadata": {},
   "source": [
    "### Carregando a Imagem"
   ]
  },
  {
   "cell_type": "code",
   "execution_count": 74,
   "metadata": {},
   "outputs": [],
   "source": [
    "image = cv2.imread('teste4.jpeg')\n",
    "image = cv2.resize(image, (image.shape[1]//2,image.shape[0]//2))\n",
    "cv2.imshow('image', image)\n",
    "cv2.waitKey(0)\n",
    "cv2.destroyAllWindows()"
   ]
  },
  {
   "cell_type": "markdown",
   "metadata": {},
   "source": [
    "### Identificando bordas"
   ]
  },
  {
   "cell_type": "code",
   "execution_count": 75,
   "metadata": {},
   "outputs": [],
   "source": [
    "gray = cv2.cvtColor(image.copy(), cv2.COLOR_BGR2GRAY)\n",
    "\n",
    "grayBlur = cv2.blur(gray.copy(), (3, 3))\n",
    "\n",
    "edgedImage = cv2.Canny(grayBlur.copy(), 50, 450, 3)\n",
    "\n",
    "cv2.imshow('edgedImage', edgedImage)\n",
    "cv2.waitKey(0)\n",
    "cv2.destroyAllWindows()"
   ]
  },
  {
   "cell_type": "markdown",
   "metadata": {},
   "source": [
    "### Detectando as bordas"
   ]
  },
  {
   "cell_type": "code",
   "execution_count": 76,
   "metadata": {},
   "outputs": [],
   "source": [
    "allContours = cv2.findContours(edgedImage.copy(),\n",
    "                               cv2.RETR_LIST, \n",
    "                               cv2.CHAIN_APPROX_SIMPLE)\n",
    "allContours = imutils.grab_contours(allContours)\n",
    "\n",
    "allContours = sorted(allContours, key = cv2.contourArea, reverse = True)[:1]\n",
    "\n",
    "perimeter = cv2.arcLength(allContours[0], True)\n",
    "ROIdimensions = cv2.approxPolyDP(allContours[0], 0.02*perimeter, True)"
   ]
  },
  {
   "cell_type": "code",
   "execution_count": 77,
   "metadata": {},
   "outputs": [],
   "source": [
    "ROIdimensions = ROIdimensions.reshape(4,2)\n",
    "rect = np.zeros((4,2), dtype= \"float32\" )\n",
    "\n",
    "s = np.sum(ROIdimensions, axis=1)\n",
    "rect[0] = ROIdimensions[np.argmin(s)]\n",
    "rect[2] = ROIdimensions[np.argmax(s)]\n",
    "\n",
    "diff = np.diff(ROIdimensions, axis=1)\n",
    "rect[1] = ROIdimensions[np.argmin(diff)]\n",
    "rect[3] = ROIdimensions[np.argmax(diff)]\n",
    "\n",
    "(tl, tr, br, bl) = rect\n",
    "\n",
    "widthA = np.sqrt((tl[0] - tr[0])**2 + (tl[1] - tr[1])**2 )\n",
    "widthB = np.sqrt((bl[0] - br[0])**2 + (bl[1] - br[1])**2 )\n",
    "maxWidth = max(int(widthA), int(widthB))\n",
    "\n",
    "heightA = np.sqrt((tl[0] - bl[0])**2 + (tl[1] - bl[1])**2 )\n",
    "heightB = np.sqrt((tr[0] - br[0])**2 + (tr[1] - br[1])**2 )\n",
    "maxHeight = max(int(heightA), int(heightB))"
   ]
  },
  {
   "cell_type": "markdown",
   "metadata": {},
   "source": [
    "### Aplicando a transformação de perspectiva"
   ]
  },
  {
   "cell_type": "code",
   "execution_count": 78,
   "metadata": {},
   "outputs": [],
   "source": [
    "dst = np.array([[0, 0],\n",
    "                [maxWidth - 1, 0], \n",
    "                [maxWidth - 1, maxHeight - 1], \n",
    "                [0, maxHeight - 1]], dtype = 'float32')\n",
    "\n",
    "transformMatrix = cv2.getPerspectiveTransform(rect, dst)\n",
    "\n",
    "scan = cv2.warpPerspective(image.copy(), transformMatrix, \n",
    "                           (maxWidth, maxHeight))\n",
    "\n",
    "cv2.imshow('scanneada', scan)\n",
    "cv2.waitKey(0)\n",
    "cv2.destroyAllWindows()"
   ]
  }
 ],
 "metadata": {
  "kernelspec": {
   "display_name": "Python 3",
   "language": "python",
   "name": "python3"
  },
  "language_info": {
   "codemirror_mode": {
    "name": "ipython",
    "version": 3
   },
   "file_extension": ".py",
   "mimetype": "text/x-python",
   "name": "python",
   "nbconvert_exporter": "python",
   "pygments_lexer": "ipython3",
   "version": "3.7.3"
  }
 },
 "nbformat": 4,
 "nbformat_minor": 2
}
